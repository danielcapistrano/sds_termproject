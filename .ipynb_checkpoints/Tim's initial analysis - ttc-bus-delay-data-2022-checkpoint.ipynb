{
 "cells": [
  {
   "cell_type": "code",
   "execution_count": 1,
   "id": "645c580c",
   "metadata": {},
   "outputs": [
    {
     "data": {
      "text/html": [
       "<div>\n",
       "<style scoped>\n",
       "    .dataframe tbody tr th:only-of-type {\n",
       "        vertical-align: middle;\n",
       "    }\n",
       "\n",
       "    .dataframe tbody tr th {\n",
       "        vertical-align: top;\n",
       "    }\n",
       "\n",
       "    .dataframe thead th {\n",
       "        text-align: right;\n",
       "    }\n",
       "</style>\n",
       "<table border=\"1\" class=\"dataframe\">\n",
       "  <thead>\n",
       "    <tr style=\"text-align: right;\">\n",
       "      <th></th>\n",
       "      <th>Min Delay</th>\n",
       "      <th>Min Gap</th>\n",
       "      <th>Vehicle</th>\n",
       "    </tr>\n",
       "  </thead>\n",
       "  <tbody>\n",
       "    <tr>\n",
       "      <th>count</th>\n",
       "      <td>27351.000000</td>\n",
       "      <td>27351.000000</td>\n",
       "      <td>27351.000000</td>\n",
       "    </tr>\n",
       "    <tr>\n",
       "      <th>mean</th>\n",
       "      <td>20.298417</td>\n",
       "      <td>32.876714</td>\n",
       "      <td>5410.169427</td>\n",
       "    </tr>\n",
       "    <tr>\n",
       "      <th>std</th>\n",
       "      <td>49.636736</td>\n",
       "      <td>51.293913</td>\n",
       "      <td>4616.285325</td>\n",
       "    </tr>\n",
       "    <tr>\n",
       "      <th>min</th>\n",
       "      <td>0.000000</td>\n",
       "      <td>0.000000</td>\n",
       "      <td>0.000000</td>\n",
       "    </tr>\n",
       "    <tr>\n",
       "      <th>25%</th>\n",
       "      <td>9.000000</td>\n",
       "      <td>17.000000</td>\n",
       "      <td>1394.000000</td>\n",
       "    </tr>\n",
       "    <tr>\n",
       "      <th>50%</th>\n",
       "      <td>11.000000</td>\n",
       "      <td>22.000000</td>\n",
       "      <td>7940.000000</td>\n",
       "    </tr>\n",
       "    <tr>\n",
       "      <th>75%</th>\n",
       "      <td>20.000000</td>\n",
       "      <td>36.000000</td>\n",
       "      <td>8523.000000</td>\n",
       "    </tr>\n",
       "    <tr>\n",
       "      <th>max</th>\n",
       "      <td>999.000000</td>\n",
       "      <td>999.000000</td>\n",
       "      <td>93561.000000</td>\n",
       "    </tr>\n",
       "  </tbody>\n",
       "</table>\n",
       "</div>"
      ],
      "text/plain": [
       "          Min Delay       Min Gap       Vehicle\n",
       "count  27351.000000  27351.000000  27351.000000\n",
       "mean      20.298417     32.876714   5410.169427\n",
       "std       49.636736     51.293913   4616.285325\n",
       "min        0.000000      0.000000      0.000000\n",
       "25%        9.000000     17.000000   1394.000000\n",
       "50%       11.000000     22.000000   7940.000000\n",
       "75%       20.000000     36.000000   8523.000000\n",
       "max      999.000000    999.000000  93561.000000"
      ]
     },
     "execution_count": 1,
     "metadata": {},
     "output_type": "execute_result"
    }
   ],
   "source": [
    "import matplotlib.pyplot as plt\n",
    "import pandas as pd\n",
    "import seaborn as sns\n",
    "import random\n",
    "# if random from [0,1] interval is greater than 0.01 the row will be skipped\n",
    "df = pd.read_csv(\n",
    "         \"ttc-bus-delay-data-2022.csv\",\n",
    "         header=0, \n",
    ")\n",
    "df.describe()"
   ]
  },
  {
   "cell_type": "code",
   "execution_count": 2,
   "id": "7678ad52",
   "metadata": {},
   "outputs": [],
   "source": [
    "# https://www.kaggle.com/datasets/sobhanmoosavi/us-accidents"
   ]
  },
  {
   "cell_type": "code",
   "execution_count": 3,
   "id": "d756ca06",
   "metadata": {},
   "outputs": [
    {
     "data": {
      "text/html": [
       "<div>\n",
       "<style scoped>\n",
       "    .dataframe tbody tr th:only-of-type {\n",
       "        vertical-align: middle;\n",
       "    }\n",
       "\n",
       "    .dataframe tbody tr th {\n",
       "        vertical-align: top;\n",
       "    }\n",
       "\n",
       "    .dataframe thead th {\n",
       "        text-align: right;\n",
       "    }\n",
       "</style>\n",
       "<table border=\"1\" class=\"dataframe\">\n",
       "  <thead>\n",
       "    <tr style=\"text-align: right;\">\n",
       "      <th></th>\n",
       "      <th>Date</th>\n",
       "      <th>Route</th>\n",
       "      <th>Time</th>\n",
       "      <th>Day</th>\n",
       "      <th>Location</th>\n",
       "      <th>Incident</th>\n",
       "      <th>Min Delay</th>\n",
       "      <th>Min Gap</th>\n",
       "      <th>Direction</th>\n",
       "      <th>Vehicle</th>\n",
       "    </tr>\n",
       "  </thead>\n",
       "  <tbody>\n",
       "    <tr>\n",
       "      <th>0</th>\n",
       "      <td>1-Jan-22</td>\n",
       "      <td>320</td>\n",
       "      <td>02:00</td>\n",
       "      <td>Saturday</td>\n",
       "      <td>YONGE AND DUNDAS</td>\n",
       "      <td>General Delay</td>\n",
       "      <td>0</td>\n",
       "      <td>0</td>\n",
       "      <td>NaN</td>\n",
       "      <td>8531</td>\n",
       "    </tr>\n",
       "    <tr>\n",
       "      <th>1</th>\n",
       "      <td>1-Jan-22</td>\n",
       "      <td>325</td>\n",
       "      <td>02:00</td>\n",
       "      <td>Saturday</td>\n",
       "      <td>OVERLEA AND THORCLIFFE</td>\n",
       "      <td>Diversion</td>\n",
       "      <td>131</td>\n",
       "      <td>161</td>\n",
       "      <td>W</td>\n",
       "      <td>8658</td>\n",
       "    </tr>\n",
       "    <tr>\n",
       "      <th>2</th>\n",
       "      <td>1-Jan-22</td>\n",
       "      <td>320</td>\n",
       "      <td>02:00</td>\n",
       "      <td>Saturday</td>\n",
       "      <td>YONGE AND STEELES</td>\n",
       "      <td>Operations - Operator</td>\n",
       "      <td>17</td>\n",
       "      <td>20</td>\n",
       "      <td>S</td>\n",
       "      <td>0</td>\n",
       "    </tr>\n",
       "    <tr>\n",
       "      <th>3</th>\n",
       "      <td>1-Jan-22</td>\n",
       "      <td>320</td>\n",
       "      <td>02:07</td>\n",
       "      <td>Saturday</td>\n",
       "      <td>YONGE AND STEELES</td>\n",
       "      <td>Operations - Operator</td>\n",
       "      <td>4</td>\n",
       "      <td>11</td>\n",
       "      <td>S</td>\n",
       "      <td>0</td>\n",
       "    </tr>\n",
       "    <tr>\n",
       "      <th>4</th>\n",
       "      <td>1-Jan-22</td>\n",
       "      <td>320</td>\n",
       "      <td>02:13</td>\n",
       "      <td>Saturday</td>\n",
       "      <td>YONGE AND STEELES</td>\n",
       "      <td>Operations - Operator</td>\n",
       "      <td>4</td>\n",
       "      <td>8</td>\n",
       "      <td>S</td>\n",
       "      <td>0</td>\n",
       "    </tr>\n",
       "    <tr>\n",
       "      <th>...</th>\n",
       "      <td>...</td>\n",
       "      <td>...</td>\n",
       "      <td>...</td>\n",
       "      <td>...</td>\n",
       "      <td>...</td>\n",
       "      <td>...</td>\n",
       "      <td>...</td>\n",
       "      <td>...</td>\n",
       "      <td>...</td>\n",
       "      <td>...</td>\n",
       "    </tr>\n",
       "    <tr>\n",
       "      <th>27346</th>\n",
       "      <td>30-Jun-22</td>\n",
       "      <td>123</td>\n",
       "      <td>00:45</td>\n",
       "      <td>Thursday</td>\n",
       "      <td>SHERWAY GARDENS RD</td>\n",
       "      <td>Operations - Operator</td>\n",
       "      <td>27</td>\n",
       "      <td>54</td>\n",
       "      <td>E</td>\n",
       "      <td>8088</td>\n",
       "    </tr>\n",
       "    <tr>\n",
       "      <th>27347</th>\n",
       "      <td>30-Jun-22</td>\n",
       "      <td>102</td>\n",
       "      <td>01:08</td>\n",
       "      <td>Thursday</td>\n",
       "      <td>WARDEN AND DANFORTH</td>\n",
       "      <td>Operations - Operator</td>\n",
       "      <td>30</td>\n",
       "      <td>60</td>\n",
       "      <td>S</td>\n",
       "      <td>3416</td>\n",
       "    </tr>\n",
       "    <tr>\n",
       "      <th>27348</th>\n",
       "      <td>30-Jun-22</td>\n",
       "      <td>66</td>\n",
       "      <td>01:15</td>\n",
       "      <td>Thursday</td>\n",
       "      <td>UNKNOWN</td>\n",
       "      <td>Operations - Operator</td>\n",
       "      <td>30</td>\n",
       "      <td>30</td>\n",
       "      <td>NaN</td>\n",
       "      <td>0</td>\n",
       "    </tr>\n",
       "    <tr>\n",
       "      <th>27349</th>\n",
       "      <td>30-Jun-22</td>\n",
       "      <td>32</td>\n",
       "      <td>01:33</td>\n",
       "      <td>Thursday</td>\n",
       "      <td>RENFORTH STATION</td>\n",
       "      <td>Cleaning - Unsanitary</td>\n",
       "      <td>18</td>\n",
       "      <td>36</td>\n",
       "      <td>E</td>\n",
       "      <td>1202</td>\n",
       "    </tr>\n",
       "    <tr>\n",
       "      <th>27350</th>\n",
       "      <td>30-Jun-22</td>\n",
       "      <td>32</td>\n",
       "      <td>01:55</td>\n",
       "      <td>Thursday</td>\n",
       "      <td>EGLINTON AND DUPLEX</td>\n",
       "      <td>Cleaning - Unsanitary</td>\n",
       "      <td>8</td>\n",
       "      <td>16</td>\n",
       "      <td>W</td>\n",
       "      <td>1265</td>\n",
       "    </tr>\n",
       "  </tbody>\n",
       "</table>\n",
       "<p>27351 rows × 10 columns</p>\n",
       "</div>"
      ],
      "text/plain": [
       "            Date Route   Time       Day                Location  \\\n",
       "0       1-Jan-22   320  02:00  Saturday        YONGE AND DUNDAS   \n",
       "1       1-Jan-22   325  02:00  Saturday  OVERLEA AND THORCLIFFE   \n",
       "2       1-Jan-22   320  02:00  Saturday       YONGE AND STEELES   \n",
       "3       1-Jan-22   320  02:07  Saturday       YONGE AND STEELES   \n",
       "4       1-Jan-22   320  02:13  Saturday       YONGE AND STEELES   \n",
       "...          ...   ...    ...       ...                     ...   \n",
       "27346  30-Jun-22   123  00:45  Thursday      SHERWAY GARDENS RD   \n",
       "27347  30-Jun-22   102  01:08  Thursday     WARDEN AND DANFORTH   \n",
       "27348  30-Jun-22    66  01:15  Thursday                 UNKNOWN   \n",
       "27349  30-Jun-22    32  01:33  Thursday        RENFORTH STATION   \n",
       "27350  30-Jun-22    32  01:55  Thursday     EGLINTON AND DUPLEX   \n",
       "\n",
       "                    Incident  Min Delay  Min Gap Direction  Vehicle  \n",
       "0              General Delay          0        0       NaN     8531  \n",
       "1                  Diversion        131      161         W     8658  \n",
       "2      Operations - Operator         17       20         S        0  \n",
       "3      Operations - Operator          4       11         S        0  \n",
       "4      Operations - Operator          4        8         S        0  \n",
       "...                      ...        ...      ...       ...      ...  \n",
       "27346  Operations - Operator         27       54         E     8088  \n",
       "27347  Operations - Operator         30       60         S     3416  \n",
       "27348  Operations - Operator         30       30       NaN        0  \n",
       "27349  Cleaning - Unsanitary         18       36         E     1202  \n",
       "27350  Cleaning - Unsanitary          8       16         W     1265  \n",
       "\n",
       "[27351 rows x 10 columns]"
      ]
     },
     "execution_count": 3,
     "metadata": {},
     "output_type": "execute_result"
    }
   ],
   "source": [
    "df"
   ]
  },
  {
   "cell_type": "code",
   "execution_count": 4,
   "id": "9c5f9341",
   "metadata": {},
   "outputs": [
    {
     "data": {
      "text/plain": [
       "Date         object\n",
       "Route        object\n",
       "Time         object\n",
       "Day          object\n",
       "Location     object\n",
       "Incident     object\n",
       "Min Delay     int64\n",
       "Min Gap       int64\n",
       "Direction    object\n",
       "Vehicle       int64\n",
       "dtype: object"
      ]
     },
     "execution_count": 4,
     "metadata": {},
     "output_type": "execute_result"
    }
   ],
   "source": [
    "df.dtypes"
   ]
  },
  {
   "cell_type": "code",
   "execution_count": 5,
   "id": "65daa537",
   "metadata": {},
   "outputs": [
    {
     "data": {
      "text/plain": [
       "Date            0\n",
       "Route         164\n",
       "Time            0\n",
       "Day             0\n",
       "Location        0\n",
       "Incident        0\n",
       "Min Delay       0\n",
       "Min Gap         0\n",
       "Direction    5577\n",
       "Vehicle         0\n",
       "dtype: int64"
      ]
     },
     "execution_count": 5,
     "metadata": {},
     "output_type": "execute_result"
    }
   ],
   "source": [
    "df.isnull().sum()"
   ]
  },
  {
   "cell_type": "code",
   "execution_count": 6,
   "id": "1068f4ad",
   "metadata": {},
   "outputs": [
    {
     "name": "stdout",
     "output_type": "stream",
     "text": [
      "           Min Delay   Min Gap  Vehicle\n",
      "Min Delay   1.000000  0.958537 -0.03270\n",
      "Min Gap     0.958537  1.000000 -0.01873\n",
      "Vehicle    -0.032700 -0.018730  1.00000\n"
     ]
    },
    {
     "name": "stderr",
     "output_type": "stream",
     "text": [
      "/var/folders/yk/nhvk3n4117g7njndctwmlq180000gn/T/ipykernel_16229/4212406737.py:1: FutureWarning: The default value of numeric_only in DataFrame.corr is deprecated. In a future version, it will default to False. Select only valid columns or specify the value of numeric_only to silence this warning.\n",
      "  print(df.corr())\n"
     ]
    }
   ],
   "source": [
    "print(df.corr())"
   ]
  },
  {
   "cell_type": "code",
   "execution_count": 7,
   "id": "72cef954",
   "metadata": {},
   "outputs": [
    {
     "name": "stderr",
     "output_type": "stream",
     "text": [
      "/var/folders/yk/nhvk3n4117g7njndctwmlq180000gn/T/ipykernel_16229/3310398894.py:2: FutureWarning: The default value of numeric_only in DataFrame.corr is deprecated. In a future version, it will default to False. Select only valid columns or specify the value of numeric_only to silence this warning.\n",
      "  heatmap = sns.heatmap(df.corr(), annot=True, linewidths=.5, fmt= '.1f',ax=ax)\n"
     ]
    },
    {
     "data": {
      "image/png": "[encoded data removed]",
      "text/plain": [
       "<Figure size 1000x800 with 2 Axes>"
      ]
     },
     "metadata": {},
     "output_type": "display_data"
    }
   ],
   "source": [
    "f,ax = plt.subplots(figsize=(10, 8))\n",
    "heatmap = sns.heatmap(df.corr(), annot=True, linewidths=.5, fmt= '.1f',ax=ax)\n",
    "heatmap.set_title('Correlation heatmap', fontdict={'fontsize':20}, pad=16)\n",
    "plt.tight_layout()\n",
    "plt.show()"
   ]
  },
  {
   "cell_type": "code",
   "execution_count": 8,
   "id": "4ebac5eb",
   "metadata": {},
   "outputs": [],
   "source": [
    "# Comments\n",
    "# - Need cleaning\n",
    "\n",
    "# at a glance. It has a lot of categorical and non ordinal data\n",
    "# I think its workable, but slightly harder"
   ]
  },
  {
   "cell_type": "code",
   "execution_count": null,
   "id": "d528849c",
   "metadata": {},
   "outputs": [],
   "source": []
  }
 ],
 "metadata": {
  "kernelspec": {
   "display_name": "Python 3 (ipykernel)",
   "language": "python",
   "name": "python3"
  },
  "language_info": {
   "codemirror_mode": {
    "name": "ipython",
    "version": 3
   },
   "file_extension": ".py",
   "mimetype": "text/x-python",
   "name": "python",
   "nbconvert_exporter": "python",
   "pygments_lexer": "ipython3",
   "version": "3.11.4"
  }
 },
 "nbformat": 4,
 "nbformat_minor": 5
}
