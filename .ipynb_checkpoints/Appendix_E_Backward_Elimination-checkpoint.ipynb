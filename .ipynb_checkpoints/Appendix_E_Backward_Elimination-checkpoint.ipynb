{
 "cells": [
  {
   "cell_type": "code",
   "execution_count": 1,
   "id": "7f7db7e2",
   "metadata": {},
   "outputs": [],
   "source": [
    "import numpy as np \n",
    "import matplotlib.pyplot as mtp  \n",
    "import pandas as pd\n",
    "import statsmodels.api as sm\n",
    "import sklearn.datasets\n",
    "from sklearn.preprocessing import LabelEncoder, OneHotEncoder  "
   ]
  },
  {
   "cell_type": "code",
   "execution_count": 3,
   "id": "2b7d80c0",
   "metadata": {},
   "outputs": [
    {
     "data": {
      "text/plain": [
       "fraud_bool                            int64\n",
       "income                              float64\n",
       "name_email_similarity               float64\n",
       "prev_address_months_count             int64\n",
       "current_address_months_count          int64\n",
       "customer_age                          int64\n",
       "days_since_request                  float64\n",
       "intended_balcon_amount              float64\n",
       "zip_count_4w                          int64\n",
       "velocity_6h                         float64\n",
       "velocity_24h                        float64\n",
       "velocity_4w                         float64\n",
       "bank_branch_count_8w                  int64\n",
       "date_of_birth_distinct_emails_4w      int64\n",
       "credit_risk_score                     int64\n",
       "email_is_free                         int64\n",
       "phone_home_valid                      int64\n",
       "phone_mobile_valid                    int64\n",
       "bank_months_count                     int64\n",
       "has_other_cards                       int64\n",
       "proposed_credit_limit               float64\n",
       "foreign_request                       int64\n",
       "session_length_in_minutes           float64\n",
       "keep_alive_session                    int64\n",
       "device_distinct_emails_8w             int64\n",
       "device_fraud_count                    int64\n",
       "month                                 int64\n",
       "INTERNET                               bool\n",
       "TELEAPP                                bool\n",
       "linux                                  bool\n",
       "other                                  bool\n",
       "windows                                bool\n",
       "x11                                    bool\n",
       "macintosh                              bool\n",
       "dtype: object"
      ]
     },
     "execution_count": 3,
     "metadata": {},
     "output_type": "execute_result"
    }
   ],
   "source": [
    "data = pd.read_csv('./data/csv_balanced/Base_bal_1.csv')\n",
    "data.dtypes"
   ]
  },
  {
   "cell_type": "code",
   "execution_count": 4,
   "id": "abcc784d",
   "metadata": {},
   "outputs": [],
   "source": [
    "def backward_elimination(X, y, sig_lvl=0.05):\n",
    "    num_vars = len(X.columns)\n",
    "    for i in range(0, num_vars):\n",
    "        regressor_OLS = sm.OLS(y.astype(float), X.astype(float)).fit()\n",
    "        max_var = max(regressor_OLS.pvalues)\n",
    "        if max_var > sig_lvl:\n",
    "            for j in range(0, num_vars - i):\n",
    "                if (regressor_OLS.pvalues[j].astype(float) == max_var):\n",
    "                    X = X.drop(X.columns[j], axis=1)\n",
    "    print(regressor_OLS.summary())\n",
    "    return X"
   ]
  },
  {
   "cell_type": "code",
   "execution_count": 5,
   "id": "197d8203",
   "metadata": {},
   "outputs": [
    {
     "name": "stdout",
     "output_type": "stream",
     "text": [
      "                            OLS Regression Results                            \n",
      "==============================================================================\n",
      "Dep. Variable:             fraud_bool   R-squared:                       0.367\n",
      "Model:                            OLS   Adj. R-squared:                  0.366\n",
      "Method:                 Least Squares   F-statistic:                     511.0\n",
      "Date:                Mon, 25 Mar 2024   Prob (F-statistic):               0.00\n",
      "Time:                        00:14:52   Log-Likelihood:                -10966.\n",
      "No. Observations:               22058   AIC:                         2.198e+04\n",
      "Df Residuals:                   22032   BIC:                         2.219e+04\n",
      "Df Model:                          25                                         \n",
      "Covariance Type:            nonrobust                                         \n",
      "====================================================================================================\n",
      "                                       coef    std err          t      P>|t|      [0.025      0.975]\n",
      "----------------------------------------------------------------------------------------------------\n",
      "const                                0.1816      0.026      6.954      0.000       0.130       0.233\n",
      "income                               0.2019      0.010     20.407      0.000       0.182       0.221\n",
      "name_email_similarity               -0.1957      0.009    -21.228      0.000      -0.214      -0.178\n",
      "prev_address_months_count           -0.0009    7.1e-05    -13.343      0.000      -0.001      -0.001\n",
      "current_address_months_count         0.0004   3.29e-05     11.491      0.000       0.000       0.000\n",
      "customer_age                         0.0047      0.000     18.989      0.000       0.004       0.005\n",
      "days_since_request                   0.0022      0.000      4.359      0.000       0.001       0.003\n",
      "intended_balcon_amount              -0.0017      0.000    -11.924      0.000      -0.002      -0.001\n",
      "zip_count_4w                      2.483e-05   2.81e-06      8.846      0.000    1.93e-05    3.03e-05\n",
      "velocity_6h                      -3.074e-06      1e-06     -3.067      0.002   -5.04e-06   -1.11e-06\n",
      "bank_branch_count_8w             -3.095e-05   6.17e-06     -5.017      0.000    -4.3e-05   -1.89e-05\n",
      "date_of_birth_distinct_emails_4w    -0.0053      0.001     -8.352      0.000      -0.007      -0.004\n",
      "credit_risk_score                    0.0006   4.72e-05     13.153      0.000       0.001       0.001\n",
      "email_is_free                        0.1001      0.006     17.978      0.000       0.089       0.111\n",
      "phone_home_valid                    -0.1673      0.006    -27.293      0.000      -0.179      -0.155\n",
      "phone_mobile_valid                  -0.0698      0.009     -8.119      0.000      -0.087      -0.053\n",
      "has_other_cards                     -0.2003      0.008    -26.356      0.000      -0.215      -0.185\n",
      "proposed_credit_limit             6.197e-05   6.13e-06     10.112      0.000       5e-05     7.4e-05\n",
      "foreign_request                      0.0636      0.014      4.590      0.000       0.036       0.091\n",
      "keep_alive_session                  -0.1343      0.006    -24.211      0.000      -0.145      -0.123\n",
      "device_distinct_emails_8w            0.1281      0.011     12.166      0.000       0.107       0.149\n",
      "month                                0.0043      0.001      3.061      0.002       0.002       0.007\n",
      "TELEAPP                              0.1165      0.030      3.898      0.000       0.058       0.175\n",
      "linux                               -0.1506      0.012    -12.749      0.000      -0.174      -0.127\n",
      "other                               -0.1039      0.012     -8.863      0.000      -0.127      -0.081\n",
      "windows                              0.0897      0.011      7.972      0.000       0.068       0.112\n",
      "==============================================================================\n",
      "Omnibus:                     1077.534   Durbin-Watson:                   0.722\n",
      "Prob(Omnibus):                  0.000   Jarque-Bera (JB):              432.039\n",
      "Skew:                           0.028   Prob(JB):                     1.53e-94\n",
      "Kurtosis:                       2.317   Cond. No.                     7.33e+04\n",
      "==============================================================================\n",
      "\n",
      "Notes:\n",
      "[1] Standard Errors assume that the covariance matrix of the errors is correctly specified.\n",
      "[2] The condition number is large, 7.33e+04. This might indicate that there are\n",
      "strong multicollinearity or other numerical problems.\n"
     ]
    }
   ],
   "source": [
    "# Separate features (X) and target variable (Y)\n",
    "X = data.drop('fraud_bool', axis=1)\n",
    "y = data['fraud_bool']\n",
    "\n",
    "# Add constant column to X for intercept\n",
    "X = sm.add_constant(X)\n",
    "\n",
    "# Perform backward elimination\n",
    "X_opt = backward_elimination(X, y)"
   ]
  },
  {
   "cell_type": "code",
   "execution_count": null,
   "id": "8c295570",
   "metadata": {},
   "outputs": [],
   "source": []
  }
 ],
 "metadata": {
  "kernelspec": {
   "display_name": "Python 3 (ipykernel)",
   "language": "python",
   "name": "python3"
  },
  "language_info": {
   "codemirror_mode": {
    "name": "ipython",
    "version": 3
   },
   "file_extension": ".py",
   "mimetype": "text/x-python",
   "name": "python",
   "nbconvert_exporter": "python",
   "pygments_lexer": "ipython3",
   "version": "3.11.4"
  }
 },
 "nbformat": 4,
 "nbformat_minor": 5
}
