{
 "cells": [
  {
   "cell_type": "code",
   "execution_count": 1,
   "metadata": {},
   "outputs": [],
   "source": [
    "import pandas as pd\n",
    "import numpy as np"
   ]
  },
  {
   "cell_type": "code",
   "execution_count": 3,
   "metadata": {},
   "outputs": [],
   "source": [
    "df_raw = pd.read_csv(\"./data/raw/Base.csv\")"
   ]
  },
  {
   "cell_type": "code",
   "execution_count": 4,
   "metadata": {},
   "outputs": [],
   "source": [
    "def undersample(dataframe):\n",
    "\n",
    "    fraud, notfraud = dataframe.fraud_bool.value_counts()\n",
    "\n",
    "    temp1=dataframe[dataframe['fraud_bool']==0].sample(notfraud)\n",
    "    temp2=dataframe[dataframe['fraud_bool']==1]\n",
    "\n",
    "    df_under= pd.concat([temp1, temp2], axis=0)\n",
    "    print(\"Observations from original dataframe: \")\n",
    "    print(dataframe.fraud_bool.value_counts())\n",
    "    print(\"Observations from new undersampled dataframe:  \")\n",
    "    print(df_under.fraud_bool.value_counts())\n",
    "    \n",
    "    return df_under\n",
    "    \n"
   ]
  },
  {
   "cell_type": "code",
   "execution_count": 6,
   "metadata": {},
   "outputs": [
    {
     "name": "stdout",
     "output_type": "stream",
     "text": [
      "Observations from original dataframe: \n",
      "fraud_bool\n",
      "0    988971\n",
      "1     11029\n",
      "Name: count, dtype: int64\n",
      "Observations from new undersampled dataframe:  \n",
      "fraud_bool\n",
      "0    11029\n",
      "1    11029\n",
      "Name: count, dtype: int64\n",
      "Observations from original dataframe: \n",
      "fraud_bool\n",
      "0    988971\n",
      "1     11029\n",
      "Name: count, dtype: int64\n",
      "Observations from new undersampled dataframe:  \n",
      "fraud_bool\n",
      "0    11029\n",
      "1    11029\n",
      "Name: count, dtype: int64\n",
      "Observations from original dataframe: \n",
      "fraud_bool\n",
      "0    988971\n",
      "1     11029\n",
      "Name: count, dtype: int64\n",
      "Observations from new undersampled dataframe:  \n",
      "fraud_bool\n",
      "0    11029\n",
      "1    11029\n",
      "Name: count, dtype: int64\n",
      "Observations from original dataframe: \n",
      "fraud_bool\n",
      "0    988971\n",
      "1     11029\n",
      "Name: count, dtype: int64\n",
      "Observations from new undersampled dataframe:  \n",
      "fraud_bool\n",
      "0    11029\n",
      "1    11029\n",
      "Name: count, dtype: int64\n",
      "Observations from original dataframe: \n",
      "fraud_bool\n",
      "0    988971\n",
      "1     11029\n",
      "Name: count, dtype: int64\n",
      "Observations from new undersampled dataframe:  \n",
      "fraud_bool\n",
      "0    11029\n",
      "1    11029\n",
      "Name: count, dtype: int64\n"
     ]
    }
   ],
   "source": [
    "for i in range(1,6):\n",
    "    df_temp = undersample(df_raw)\n",
    "    df_temp.to_csv('./data/csv_balanced/Base_bal_' + str(i) + '.csv')"
   ]
  }
 ],
 "metadata": {
  "kernelspec": {
   "display_name": "Python 3 (ipykernel)",
   "language": "python",
   "name": "python3"
  },
  "language_info": {
   "codemirror_mode": {
    "name": "ipython",
    "version": 3
   },
   "file_extension": ".py",
   "mimetype": "text/x-python",
   "name": "python",
   "nbconvert_exporter": "python",
   "pygments_lexer": "ipython3",
   "version": "3.11.4"
  }
 },
 "nbformat": 4,
 "nbformat_minor": 2
}
