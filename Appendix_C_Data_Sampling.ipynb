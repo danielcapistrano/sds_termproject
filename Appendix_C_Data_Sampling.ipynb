{
 "cells": [
  {
   "cell_type": "code",
   "execution_count": 1,
   "metadata": {
    "id": "L_-ijuGTfnFV"
   },
   "outputs": [],
   "source": [
    "import pandas as pd\n",
    "import numpy as np"
   ]
  },
  {
   "cell_type": "markdown",
   "metadata": {},
   "source": [
    "## 1) Importing raw dataset (not balanced)\n",
    "After cleaning and transformation described in the Annex B"
   ]
  },
  {
   "cell_type": "code",
   "execution_count": 2,
   "metadata": {
    "id": "s5CDY99xfnFZ"
   },
   "outputs": [],
   "source": [
    "df_raw = pd.read_csv(\"./data/raw/Base_cleaned.csv\")"
   ]
  },
  {
   "cell_type": "markdown",
   "metadata": {},
   "source": [
    "## 2) Creating function to sample \"Not fraud\" observations"
   ]
  },
  {
   "cell_type": "code",
   "execution_count": 3,
   "metadata": {
    "id": "R2p-qoc3fnFa"
   },
   "outputs": [],
   "source": [
    "def undersample(dataframe):\n",
    "\n",
    "    fraud, notfraud = dataframe.fraud_bool.value_counts()\n",
    "\n",
    "    temp1=dataframe[dataframe['fraud_bool']==0].sample(notfraud)\n",
    "    temp2=dataframe[dataframe['fraud_bool']==1]\n",
    "\n",
    "    df_under= pd.concat([temp1, temp2], axis=0)\n",
    "    print(\"Observations from original dataframe: \")\n",
    "    print(dataframe.fraud_bool.value_counts())\n",
    "    print(\"Observations from new undersampled dataframe:  \")\n",
    "    print(df_under.fraud_bool.value_counts())\n",
    "\n",
    "    return df_under\n",
    "\n"
   ]
  },
  {
   "cell_type": "markdown",
   "metadata": {},
   "source": [
    "## 3) Creating 5 datasets with balanced sample"
   ]
  },
  {
   "cell_type": "code",
   "execution_count": 4,
   "metadata": {
    "id": "eaL2RkYufnFa",
    "outputId": "024b9036-9235-4481-8e8a-e8020f1b4cea"
   },
   "outputs": [
    {
     "name": "stdout",
     "output_type": "stream",
     "text": [
      "\n",
      "#### Generating dataset 1###########\n",
      "Observations from original dataframe: \n",
      "fraud_bool\n",
      "0    988971\n",
      "1     11029\n",
      "Name: count, dtype: int64\n",
      "Observations from new undersampled dataframe:  \n",
      "fraud_bool\n",
      "0    11029\n",
      "1    11029\n",
      "Name: count, dtype: int64\n",
      "\n",
      "#### Generating dataset 2###########\n",
      "Observations from original dataframe: \n",
      "fraud_bool\n",
      "0    988971\n",
      "1     11029\n",
      "Name: count, dtype: int64\n",
      "Observations from new undersampled dataframe:  \n",
      "fraud_bool\n",
      "0    11029\n",
      "1    11029\n",
      "Name: count, dtype: int64\n",
      "\n",
      "#### Generating dataset 3###########\n",
      "Observations from original dataframe: \n",
      "fraud_bool\n",
      "0    988971\n",
      "1     11029\n",
      "Name: count, dtype: int64\n",
      "Observations from new undersampled dataframe:  \n",
      "fraud_bool\n",
      "0    11029\n",
      "1    11029\n",
      "Name: count, dtype: int64\n",
      "\n",
      "#### Generating dataset 4###########\n",
      "Observations from original dataframe: \n",
      "fraud_bool\n",
      "0    988971\n",
      "1     11029\n",
      "Name: count, dtype: int64\n",
      "Observations from new undersampled dataframe:  \n",
      "fraud_bool\n",
      "0    11029\n",
      "1    11029\n",
      "Name: count, dtype: int64\n",
      "\n",
      "#### Generating dataset 5###########\n",
      "Observations from original dataframe: \n",
      "fraud_bool\n",
      "0    988971\n",
      "1     11029\n",
      "Name: count, dtype: int64\n",
      "Observations from new undersampled dataframe:  \n",
      "fraud_bool\n",
      "0    11029\n",
      "1    11029\n",
      "Name: count, dtype: int64\n"
     ]
    }
   ],
   "source": [
    "for i in range(1,6):\n",
    "    print(\"\\n#### Generating dataset \" + str(i) + \"###########\")\n",
    "    df_temp = undersample(df_raw)\n",
    "    df_temp.to_csv('./data/csv_balanced/Base_bal_' + str(i) + '.csv', index=False)"
   ]
  }
 ],
 "metadata": {
  "colab": {
   "provenance": []
  },
  "kernelspec": {
   "display_name": "Python 3 (ipykernel)",
   "language": "python",
   "name": "python3"
  },
  "language_info": {
   "codemirror_mode": {
    "name": "ipython",
    "version": 3
   },
   "file_extension": ".py",
   "mimetype": "text/x-python",
   "name": "python",
   "nbconvert_exporter": "python",
   "pygments_lexer": "ipython3",
   "version": "3.11.4"
  }
 },
 "nbformat": 4,
 "nbformat_minor": 1
}
